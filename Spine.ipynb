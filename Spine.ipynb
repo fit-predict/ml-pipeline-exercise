{
 "cells": [
  {
   "cell_type": "markdown",
   "metadata": {},
   "source": [
    "### Lower Back Pain \n",
    "\n",
    ">About 80 percent of adults experience low back pain at some point in their lifetimes. It is the most common cause of job-related disability and a leading contributor to missed work days. In a large survey, more than a quarter of adults reported experiencing low back pain during the past 3 months [[1]](https://www.ninds.nih.gov/DISORDERS/PATIENT-CAREGIVER-EDUCATION/FACT-SHEETS/LOW-BACK-PAIN-FACT-SHEET)\n",
    "\n",
    "It can be caused by a variety of problems with any parts of the complex, interconnected network of spinal muscles, nerves, bones, discs or tendons in the lumbar spine.\n",
    "\n",
    "While lower back pain is extremely common, the symptoms and severity of lower back pain vary greatly. A simple lower back muscle strain might be excruciating enough to necessitate an emergency room visit, while a degenerating disc might cause only mild, intermittent discomfort.\n",
    "\n",
    "Typical sources of low back pain include:\n",
    "\n",
    "- The large nerve roots in the low back that go to the legs may be irritated.\n",
    "- The smaller nerves that supply the low back may be irritated.\n",
    "- The large paired lower back muscles (erector spinae) may be strained.\n",
    "- The bones, ligaments or joints may be damaged.\n",
    "- An intervertebral disc may be degenerating."
   ]
  },
  {
   "cell_type": "markdown",
   "metadata": {},
   "source": [
    "### Goal of the exercise\n",
    "Identify if a person suffers from abnormal or normal lower back pain using collected physical spine details/data."
   ]
  },
  {
   "cell_type": "markdown",
   "metadata": {},
   "source": [
    "[[Source]](https://www.kaggle.com/sammy123/lower-back-pain-symptoms-dataset/)\n",
    "\n",
    "**WARNING**: We will use a dataset similar to the one that appears in the link but it is not the same."
   ]
  }
 ],
 "metadata": {
  "kernelspec": {
   "display_name": "Python 3",
   "language": "python",
   "name": "python3"
  },
  "language_info": {
   "codemirror_mode": {
    "name": "ipython",
    "version": 3
   },
   "file_extension": ".py",
   "mimetype": "text/x-python",
   "name": "python",
   "nbconvert_exporter": "python",
   "pygments_lexer": "ipython3",
   "version": "3.7.5"
  }
 },
 "nbformat": 4,
 "nbformat_minor": 2
}
